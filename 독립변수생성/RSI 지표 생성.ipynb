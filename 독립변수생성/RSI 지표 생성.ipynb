{
 "cells": [
  {
   "cell_type": "markdown",
   "id": "7b21be94",
   "metadata": {},
   "source": [
    "# RSI (Relative Strength Index)\n",
    "    RSI는 현재 가격의 상승압력과 하락 압력간의 상대적인 강도를 나타내는 기술적 지표이다. 주로 과매수와 과매도 상태를 판단하기에 용이한\n",
    "    보조지표로서 사용한다. RSI가 70% 이상이면 과매수, 30% 이하면 과매도 상태로 본다. RSI는 횡보장에서 큰 영향을 발휘하지만 강한 추세\n",
    "    가 나타나는 시장에서는 잘못된 신호를 보내는 경우가 많다는 한계점이 있다.\n",
    "    \n",
    "    RSI = ((n일 동안의 종가 상승분 평균) / (n일 동안의 종가 상승분 평균) + (n일 동안의 종가 하락 분 평균) ) * 100 으로 계산되며\n",
    "    n값으로는 보통 14일을 많이 사용한다."
   ]
  },
  {
   "cell_type": "code",
   "execution_count": 74,
   "id": "ae3a9ee5",
   "metadata": {},
   "outputs": [],
   "source": [
    "import pandas as pd\n",
    "\n",
    "df1 = pd.read_csv(\"./dataset/KODEX 200 2022 1 1 ~ 2022 5 29.csv\", encoding='cp949')"
   ]
  },
  {
   "cell_type": "markdown",
   "id": "06e45f5e",
   "metadata": {},
   "source": [
    "#### row, column 확인"
   ]
  },
  {
   "cell_type": "code",
   "execution_count": 75,
   "id": "cd188f10",
   "metadata": {
    "scrolled": true
   },
   "outputs": [
    {
     "data": {
      "text/plain": [
       "(98, 17)"
      ]
     },
     "execution_count": 75,
     "metadata": {},
     "output_type": "execute_result"
    }
   ],
   "source": [
    "df1.shape"
   ]
  },
  {
   "cell_type": "markdown",
   "id": "0d88b3ef",
   "metadata": {},
   "source": [
    "#### 수치형 데이터들에 대한 분석\n",
    "mean과 50% 구간이 차이가 많이 난다면 이상치 문제를 고려해볼 수 있다"
   ]
  },
  {
   "cell_type": "code",
   "execution_count": 76,
   "id": "008fd2e7",
   "metadata": {},
   "outputs": [
    {
     "data": {
      "text/html": [
       "<div>\n",
       "<style scoped>\n",
       "    .dataframe tbody tr th:only-of-type {\n",
       "        vertical-align: middle;\n",
       "    }\n",
       "\n",
       "    .dataframe tbody tr th {\n",
       "        vertical-align: top;\n",
       "    }\n",
       "\n",
       "    .dataframe thead th {\n",
       "        text-align: right;\n",
       "    }\n",
       "</style>\n",
       "<table border=\"1\" class=\"dataframe\">\n",
       "  <thead>\n",
       "    <tr style=\"text-align: right;\">\n",
       "      <th></th>\n",
       "      <th>조회날짜</th>\n",
       "      <th>코드1</th>\n",
       "      <th>종가</th>\n",
       "      <th>전일대비 등락</th>\n",
       "      <th>전일대비 등락률</th>\n",
       "      <th>시가</th>\n",
       "      <th>고가</th>\n",
       "      <th>저가</th>\n",
       "      <th>체결수량의 누적합</th>\n",
       "      <th>체결가격 * 체결수량 누적합</th>\n",
       "      <th>종가*상장좌수</th>\n",
       "      <th>상장좌수</th>\n",
       "      <th>기초지수 종가</th>\n",
       "      <th>순자산총액</th>\n",
       "    </tr>\n",
       "  </thead>\n",
       "  <tbody>\n",
       "    <tr>\n",
       "      <th>count</th>\n",
       "      <td>9.800000e+01</td>\n",
       "      <td>98.0</td>\n",
       "      <td>98.000000</td>\n",
       "      <td>98.000000</td>\n",
       "      <td>98.000000</td>\n",
       "      <td>98.000000</td>\n",
       "      <td>98.000000</td>\n",
       "      <td>98.000000</td>\n",
       "      <td>9.800000e+01</td>\n",
       "      <td>9.800000e+01</td>\n",
       "      <td>9.800000e+01</td>\n",
       "      <td>9.800000e+01</td>\n",
       "      <td>98.000000</td>\n",
       "      <td>9.800000e+01</td>\n",
       "    </tr>\n",
       "    <tr>\n",
       "      <th>mean</th>\n",
       "      <td>2.022031e+07</td>\n",
       "      <td>69500.0</td>\n",
       "      <td>36529.795918</td>\n",
       "      <td>-49.285714</td>\n",
       "      <td>-0.124592</td>\n",
       "      <td>36559.030612</td>\n",
       "      <td>36760.204082</td>\n",
       "      <td>36304.336735</td>\n",
       "      <td>6.236832e+06</td>\n",
       "      <td>2.272756e+11</td>\n",
       "      <td>5.223108e+12</td>\n",
       "      <td>1.429010e+08</td>\n",
       "      <td>361.753061</td>\n",
       "      <td>5.228928e+12</td>\n",
       "    </tr>\n",
       "    <tr>\n",
       "      <th>std</th>\n",
       "      <td>1.403213e+02</td>\n",
       "      <td>0.0</td>\n",
       "      <td>1416.461927</td>\n",
       "      <td>421.027829</td>\n",
       "      <td>1.157866</td>\n",
       "      <td>1455.452007</td>\n",
       "      <td>1430.665067</td>\n",
       "      <td>1421.167234</td>\n",
       "      <td>2.253876e+06</td>\n",
       "      <td>8.107885e+10</td>\n",
       "      <td>3.454822e+11</td>\n",
       "      <td>5.950777e+06</td>\n",
       "      <td>13.290979</td>\n",
       "      <td>3.401765e+11</td>\n",
       "    </tr>\n",
       "    <tr>\n",
       "      <th>min</th>\n",
       "      <td>2.022010e+07</td>\n",
       "      <td>69500.0</td>\n",
       "      <td>33805.000000</td>\n",
       "      <td>-1205.000000</td>\n",
       "      <td>-3.300000</td>\n",
       "      <td>34010.000000</td>\n",
       "      <td>34295.000000</td>\n",
       "      <td>33785.000000</td>\n",
       "      <td>2.807810e+06</td>\n",
       "      <td>1.013786e+11</td>\n",
       "      <td>4.573816e+12</td>\n",
       "      <td>1.312500e+08</td>\n",
       "      <td>337.940000</td>\n",
       "      <td>4.622132e+12</td>\n",
       "    </tr>\n",
       "    <tr>\n",
       "      <th>25%</th>\n",
       "      <td>2.022021e+07</td>\n",
       "      <td>69500.0</td>\n",
       "      <td>35522.500000</td>\n",
       "      <td>-368.750000</td>\n",
       "      <td>-0.987500</td>\n",
       "      <td>35618.750000</td>\n",
       "      <td>35811.250000</td>\n",
       "      <td>35395.000000</td>\n",
       "      <td>4.649794e+06</td>\n",
       "      <td>1.720279e+11</td>\n",
       "      <td>4.908888e+12</td>\n",
       "      <td>1.384750e+08</td>\n",
       "      <td>353.397500</td>\n",
       "      <td>4.942814e+12</td>\n",
       "    </tr>\n",
       "    <tr>\n",
       "      <th>50%</th>\n",
       "      <td>2.022032e+07</td>\n",
       "      <td>69500.0</td>\n",
       "      <td>36535.000000</td>\n",
       "      <td>-50.000000</td>\n",
       "      <td>-0.135000</td>\n",
       "      <td>36550.000000</td>\n",
       "      <td>36702.500000</td>\n",
       "      <td>36307.500000</td>\n",
       "      <td>5.743956e+06</td>\n",
       "      <td>2.078294e+11</td>\n",
       "      <td>5.211935e+12</td>\n",
       "      <td>1.438000e+08</td>\n",
       "      <td>360.710000</td>\n",
       "      <td>5.254649e+12</td>\n",
       "    </tr>\n",
       "    <tr>\n",
       "      <th>75%</th>\n",
       "      <td>2.022042e+07</td>\n",
       "      <td>69500.0</td>\n",
       "      <td>37080.000000</td>\n",
       "      <td>216.250000</td>\n",
       "      <td>0.572500</td>\n",
       "      <td>37017.500000</td>\n",
       "      <td>37203.750000</td>\n",
       "      <td>36817.500000</td>\n",
       "      <td>7.050076e+06</td>\n",
       "      <td>2.480102e+11</td>\n",
       "      <td>5.532357e+12</td>\n",
       "      <td>1.470125e+08</td>\n",
       "      <td>366.157500</td>\n",
       "      <td>5.547697e+12</td>\n",
       "    </tr>\n",
       "    <tr>\n",
       "      <th>max</th>\n",
       "      <td>2.022053e+07</td>\n",
       "      <td>69500.0</td>\n",
       "      <td>39965.000000</td>\n",
       "      <td>945.000000</td>\n",
       "      <td>2.680000</td>\n",
       "      <td>40070.000000</td>\n",
       "      <td>40345.000000</td>\n",
       "      <td>39825.000000</td>\n",
       "      <td>1.496508e+07</td>\n",
       "      <td>5.350166e+11</td>\n",
       "      <td>6.126634e+12</td>\n",
       "      <td>1.540000e+08</td>\n",
       "      <td>395.510000</td>\n",
       "      <td>5.885459e+12</td>\n",
       "    </tr>\n",
       "  </tbody>\n",
       "</table>\n",
       "</div>"
      ],
      "text/plain": [
       "               조회날짜      코드1            종가      전일대비 등락   전일대비 등락률  \\\n",
       "count  9.800000e+01     98.0     98.000000    98.000000  98.000000   \n",
       "mean   2.022031e+07  69500.0  36529.795918   -49.285714  -0.124592   \n",
       "std    1.403213e+02      0.0   1416.461927   421.027829   1.157866   \n",
       "min    2.022010e+07  69500.0  33805.000000 -1205.000000  -3.300000   \n",
       "25%    2.022021e+07  69500.0  35522.500000  -368.750000  -0.987500   \n",
       "50%    2.022032e+07  69500.0  36535.000000   -50.000000  -0.135000   \n",
       "75%    2.022042e+07  69500.0  37080.000000   216.250000   0.572500   \n",
       "max    2.022053e+07  69500.0  39965.000000   945.000000   2.680000   \n",
       "\n",
       "                 시가            고가            저가     체결수량의 누적합  \\\n",
       "count     98.000000     98.000000     98.000000  9.800000e+01   \n",
       "mean   36559.030612  36760.204082  36304.336735  6.236832e+06   \n",
       "std     1455.452007   1430.665067   1421.167234  2.253876e+06   \n",
       "min    34010.000000  34295.000000  33785.000000  2.807810e+06   \n",
       "25%    35618.750000  35811.250000  35395.000000  4.649794e+06   \n",
       "50%    36550.000000  36702.500000  36307.500000  5.743956e+06   \n",
       "75%    37017.500000  37203.750000  36817.500000  7.050076e+06   \n",
       "max    40070.000000  40345.000000  39825.000000  1.496508e+07   \n",
       "\n",
       "       체결가격 * 체결수량 누적합       종가*상장좌수          상장좌수     기초지수 종가         순자산총액  \n",
       "count     9.800000e+01  9.800000e+01  9.800000e+01   98.000000  9.800000e+01  \n",
       "mean      2.272756e+11  5.223108e+12  1.429010e+08  361.753061  5.228928e+12  \n",
       "std       8.107885e+10  3.454822e+11  5.950777e+06   13.290979  3.401765e+11  \n",
       "min       1.013786e+11  4.573816e+12  1.312500e+08  337.940000  4.622132e+12  \n",
       "25%       1.720279e+11  4.908888e+12  1.384750e+08  353.397500  4.942814e+12  \n",
       "50%       2.078294e+11  5.211935e+12  1.438000e+08  360.710000  5.254649e+12  \n",
       "75%       2.480102e+11  5.532357e+12  1.470125e+08  366.157500  5.547697e+12  \n",
       "max       5.350166e+11  6.126634e+12  1.540000e+08  395.510000  5.885459e+12  "
      ]
     },
     "execution_count": 76,
     "metadata": {},
     "output_type": "execute_result"
    }
   ],
   "source": [
    "df1.describe()"
   ]
  },
  {
   "cell_type": "markdown",
   "id": "dc565841",
   "metadata": {},
   "source": [
    "#### 결측치 검사"
   ]
  },
  {
   "cell_type": "code",
   "execution_count": 77,
   "id": "78756302",
   "metadata": {},
   "outputs": [
    {
     "data": {
      "text/plain": [
       "조회날짜               0\n",
       "코드1                0\n",
       "종목 코드              0\n",
       "종목 명칭              0\n",
       "종가                 0\n",
       "전일대비 등락            0\n",
       "전일대비 등락률           0\n",
       "시가                 0\n",
       "고가                 0\n",
       "저가                 0\n",
       "체결수량의 누적합          0\n",
       "체결가격 * 체결수량 누적합    0\n",
       "종가*상장좌수            0\n",
       "상장좌수               0\n",
       "기초지수 명칭            0\n",
       "기초지수 종가            0\n",
       "순자산총액              0\n",
       "dtype: int64"
      ]
     },
     "execution_count": 77,
     "metadata": {},
     "output_type": "execute_result"
    }
   ],
   "source": [
    "df1.isnull().sum()"
   ]
  },
  {
   "cell_type": "markdown",
   "id": "075a1e40",
   "metadata": {},
   "source": [
    "#### 데이터 샘플 확인"
   ]
  },
  {
   "cell_type": "code",
   "execution_count": 78,
   "id": "9c1b1bbe",
   "metadata": {},
   "outputs": [
    {
     "data": {
      "text/html": [
       "<div>\n",
       "<style scoped>\n",
       "    .dataframe tbody tr th:only-of-type {\n",
       "        vertical-align: middle;\n",
       "    }\n",
       "\n",
       "    .dataframe tbody tr th {\n",
       "        vertical-align: top;\n",
       "    }\n",
       "\n",
       "    .dataframe thead th {\n",
       "        text-align: right;\n",
       "    }\n",
       "</style>\n",
       "<table border=\"1\" class=\"dataframe\">\n",
       "  <thead>\n",
       "    <tr style=\"text-align: right;\">\n",
       "      <th></th>\n",
       "      <th>조회날짜</th>\n",
       "      <th>코드1</th>\n",
       "      <th>종목 코드</th>\n",
       "      <th>종목 명칭</th>\n",
       "      <th>종가</th>\n",
       "      <th>전일대비 등락</th>\n",
       "      <th>전일대비 등락률</th>\n",
       "      <th>시가</th>\n",
       "      <th>고가</th>\n",
       "      <th>저가</th>\n",
       "      <th>체결수량의 누적합</th>\n",
       "      <th>체결가격 * 체결수량 누적합</th>\n",
       "      <th>종가*상장좌수</th>\n",
       "      <th>상장좌수</th>\n",
       "      <th>기초지수 명칭</th>\n",
       "      <th>기초지수 종가</th>\n",
       "      <th>순자산총액</th>\n",
       "    </tr>\n",
       "  </thead>\n",
       "  <tbody>\n",
       "    <tr>\n",
       "      <th>0</th>\n",
       "      <td>20220526</td>\n",
       "      <td>69500</td>\n",
       "      <td>KR7069500007</td>\n",
       "      <td>KODEX 200</td>\n",
       "      <td>34480</td>\n",
       "      <td>-115</td>\n",
       "      <td>-0.33</td>\n",
       "      <td>34595</td>\n",
       "      <td>34945</td>\n",
       "      <td>34355</td>\n",
       "      <td>6777076</td>\n",
       "      <td>234197488505</td>\n",
       "      <td>5080628000000</td>\n",
       "      <td>147350000</td>\n",
       "      <td>코스피 200</td>\n",
       "      <td>344.26</td>\n",
       "      <td>5058427027452</td>\n",
       "    </tr>\n",
       "    <tr>\n",
       "      <th>1</th>\n",
       "      <td>20220525</td>\n",
       "      <td>69500</td>\n",
       "      <td>KR7069500007</td>\n",
       "      <td>KODEX 200</td>\n",
       "      <td>34595</td>\n",
       "      <td>145</td>\n",
       "      <td>0.42</td>\n",
       "      <td>34660</td>\n",
       "      <td>34825</td>\n",
       "      <td>34430</td>\n",
       "      <td>6735545</td>\n",
       "      <td>233370095985</td>\n",
       "      <td>4910760250000</td>\n",
       "      <td>141950000</td>\n",
       "      <td>코스피 200</td>\n",
       "      <td>345.60</td>\n",
       "      <td>5102392868588</td>\n",
       "    </tr>\n",
       "    <tr>\n",
       "      <th>2</th>\n",
       "      <td>20220524</td>\n",
       "      <td>69500</td>\n",
       "      <td>KR7069500007</td>\n",
       "      <td>KODEX 200</td>\n",
       "      <td>34450</td>\n",
       "      <td>-650</td>\n",
       "      <td>-1.85</td>\n",
       "      <td>34950</td>\n",
       "      <td>35030</td>\n",
       "      <td>34450</td>\n",
       "      <td>5416640</td>\n",
       "      <td>187387240065</td>\n",
       "      <td>4802330000000</td>\n",
       "      <td>139400000</td>\n",
       "      <td>코스피 200</td>\n",
       "      <td>344.08</td>\n",
       "      <td>4893775800336</td>\n",
       "    </tr>\n",
       "    <tr>\n",
       "      <th>3</th>\n",
       "      <td>20220523</td>\n",
       "      <td>69500</td>\n",
       "      <td>KR7069500007</td>\n",
       "      <td>KODEX 200</td>\n",
       "      <td>35100</td>\n",
       "      <td>115</td>\n",
       "      <td>0.33</td>\n",
       "      <td>35135</td>\n",
       "      <td>35225</td>\n",
       "      <td>34915</td>\n",
       "      <td>5876025</td>\n",
       "      <td>206112707170</td>\n",
       "      <td>5031585000000</td>\n",
       "      <td>143350000</td>\n",
       "      <td>코스피 200</td>\n",
       "      <td>350.34</td>\n",
       "      <td>4892952813360</td>\n",
       "    </tr>\n",
       "    <tr>\n",
       "      <th>4</th>\n",
       "      <td>20220520</td>\n",
       "      <td>69500</td>\n",
       "      <td>KR7069500007</td>\n",
       "      <td>KODEX 200</td>\n",
       "      <td>34985</td>\n",
       "      <td>615</td>\n",
       "      <td>1.79</td>\n",
       "      <td>34515</td>\n",
       "      <td>35025</td>\n",
       "      <td>34485</td>\n",
       "      <td>4661990</td>\n",
       "      <td>162813735335</td>\n",
       "      <td>4992359500000</td>\n",
       "      <td>142700000</td>\n",
       "      <td>코스피 200</td>\n",
       "      <td>349.29</td>\n",
       "      <td>5016595210744</td>\n",
       "    </tr>\n",
       "  </tbody>\n",
       "</table>\n",
       "</div>"
      ],
      "text/plain": [
       "       조회날짜    코드1         종목 코드      종목 명칭     종가  전일대비 등락  전일대비 등락률     시가  \\\n",
       "0  20220526  69500  KR7069500007  KODEX 200  34480     -115     -0.33  34595   \n",
       "1  20220525  69500  KR7069500007  KODEX 200  34595      145      0.42  34660   \n",
       "2  20220524  69500  KR7069500007  KODEX 200  34450     -650     -1.85  34950   \n",
       "3  20220523  69500  KR7069500007  KODEX 200  35100      115      0.33  35135   \n",
       "4  20220520  69500  KR7069500007  KODEX 200  34985      615      1.79  34515   \n",
       "\n",
       "      고가     저가  체결수량의 누적합  체결가격 * 체결수량 누적합        종가*상장좌수       상장좌수  \\\n",
       "0  34945  34355    6777076     234197488505  5080628000000  147350000   \n",
       "1  34825  34430    6735545     233370095985  4910760250000  141950000   \n",
       "2  35030  34450    5416640     187387240065  4802330000000  139400000   \n",
       "3  35225  34915    5876025     206112707170  5031585000000  143350000   \n",
       "4  35025  34485    4661990     162813735335  4992359500000  142700000   \n",
       "\n",
       "   기초지수 명칭  기초지수 종가          순자산총액  \n",
       "0  코스피 200   344.26  5058427027452  \n",
       "1  코스피 200   345.60  5102392868588  \n",
       "2  코스피 200   344.08  4893775800336  \n",
       "3  코스피 200   350.34  4892952813360  \n",
       "4  코스피 200   349.29  5016595210744  "
      ]
     },
     "execution_count": 78,
     "metadata": {},
     "output_type": "execute_result"
    }
   ],
   "source": [
    "df1.head()"
   ]
  },
  {
   "cell_type": "markdown",
   "id": "39f1cdba",
   "metadata": {},
   "source": [
    "#### 조회날짜를 index 및 datetime으로 변경"
   ]
  },
  {
   "cell_type": "code",
   "execution_count": 79,
   "id": "6f110e75",
   "metadata": {},
   "outputs": [],
   "source": [
    "def make_datetime(x) :\n",
    "    \n",
    "    x = str(x)\n",
    "    \n",
    "    str_val = ''\n",
    "    str_val += x[0:4] + \"-\"\n",
    "    str_val += x[4:6] + \"-\"\n",
    "    str_val += x[6:]\n",
    "    \n",
    "    return str_val\n",
    "\n",
    "df1['조회날짜'] = pd.to_datetime(df1['조회날짜'].apply(make_datetime))\n",
    "df1 = df1.set_index('조회날짜')"
   ]
  },
  {
   "cell_type": "markdown",
   "id": "fff2174a",
   "metadata": {},
   "source": [
    "#### 현재 엑셀 데이터가 날짜기준 내림차순으로 되어있으므로 날짜기준 오름차순으로 변경"
   ]
  },
  {
   "cell_type": "code",
   "execution_count": 80,
   "id": "73dce3ca",
   "metadata": {},
   "outputs": [],
   "source": [
    "df1 = df1.sort_index()"
   ]
  },
  {
   "cell_type": "code",
   "execution_count": 81,
   "id": "f2dbc9ec",
   "metadata": {},
   "outputs": [],
   "source": [
    "df2 = df1"
   ]
  },
  {
   "cell_type": "markdown",
   "id": "8d178bd8",
   "metadata": {},
   "source": [
    "#### 필터링을 통해 현재 데이터프레임에서 전일대비 하락과 전일대비 상승으로 분할"
   ]
  },
  {
   "cell_type": "code",
   "execution_count": 82,
   "id": "4b8fc81e",
   "metadata": {},
   "outputs": [
    {
     "name": "stdout",
     "output_type": "stream",
     "text": [
      "조회날짜\n",
      "2022-01-03     95\n",
      "2022-01-04      0\n",
      "2022-01-05      0\n",
      "2022-01-06      0\n",
      "2022-01-07    490\n",
      "             ... \n",
      "2022-05-20    615\n",
      "2022-05-23    115\n",
      "2022-05-24      0\n",
      "2022-05-25    145\n",
      "2022-05-26      0\n",
      "Name: 전일대비 등락, Length: 98, dtype: int64\n",
      "조회날짜\n",
      "2022-01-03      0\n",
      "2022-01-04    -25\n",
      "2022-01-05   -570\n",
      "2022-01-06   -395\n",
      "2022-01-07      0\n",
      "             ... \n",
      "2022-05-20      0\n",
      "2022-05-23      0\n",
      "2022-05-24   -650\n",
      "2022-05-25      0\n",
      "2022-05-26   -115\n",
      "Name: 전일대비 등락, Length: 98, dtype: int64\n"
     ]
    }
   ],
   "source": [
    "ups, downs = df2['전일대비 등락'].copy(), df2['전일대비 등락'].copy()\n",
    "ups[ups<0] = 0\n",
    "downs[downs>0] = 0\n",
    "\n",
    "print(ups)\n",
    "print(downs)"
   ]
  },
  {
   "cell_type": "markdown",
   "id": "401e88ee",
   "metadata": {},
   "source": [
    "#### N 설정(14일) 후 N 기준으로 au와 ad 계산"
   ]
  },
  {
   "cell_type": "code",
   "execution_count": 83,
   "id": "ad55af9c",
   "metadata": {},
   "outputs": [],
   "source": [
    "period = 14\n",
    "au = ups.ewm(com = period-1, min_periods = period).mean()\n",
    "ad = downs.abs().ewm(com = period-1, min_periods = period).mean()"
   ]
  },
  {
   "cell_type": "code",
   "execution_count": 84,
   "id": "569c118d",
   "metadata": {},
   "outputs": [
    {
     "name": "stdout",
     "output_type": "stream",
     "text": [
      "조회날짜\n",
      "2022-01-03           NaN\n",
      "2022-01-04           NaN\n",
      "2022-01-05           NaN\n",
      "2022-01-06           NaN\n",
      "2022-01-07           NaN\n",
      "                 ...    \n",
      "2022-05-20    163.050816\n",
      "2022-05-23    159.615606\n",
      "2022-05-24    148.205211\n",
      "2022-05-25    147.976094\n",
      "2022-05-26    137.398955\n",
      "Name: 전일대비 등락, Length: 98, dtype: float64\n",
      "조회날짜\n",
      "2022-01-03           NaN\n",
      "2022-01-04           NaN\n",
      "2022-01-05           NaN\n",
      "2022-01-06           NaN\n",
      "2022-01-07           NaN\n",
      "                 ...    \n",
      "2022-05-20    164.863662\n",
      "2022-05-23    153.077362\n",
      "2022-05-24    188.600729\n",
      "2022-05-25    175.119066\n",
      "2022-05-26    170.821834\n",
      "Name: 전일대비 등락, Length: 98, dtype: float64\n"
     ]
    }
   ],
   "source": [
    "print(au)\n",
    "print(ad)"
   ]
  },
  {
   "cell_type": "markdown",
   "id": "206ddbc1",
   "metadata": {},
   "source": [
    "#### 공식을 사용해서 RSI를 구한다 RS / (1 + RS), AU / (AU+AD) 어느것이든 결과는 동일하다"
   ]
  },
  {
   "cell_type": "code",
   "execution_count": 85,
   "id": "24ce1e4d",
   "metadata": {},
   "outputs": [
    {
     "name": "stdout",
     "output_type": "stream",
     "text": [
      "조회날짜\n",
      "2022-01-03          NaN\n",
      "2022-01-04          NaN\n",
      "2022-01-05          NaN\n",
      "2022-01-06          NaN\n",
      "2022-01-07          NaN\n",
      "                ...    \n",
      "2022-05-20    49.723579\n",
      "2022-05-23    51.045473\n",
      "2022-05-24    44.003146\n",
      "2022-05-25    45.799539\n",
      "2022-05-26    44.578095\n",
      "Name: 전일대비 등락, Length: 98, dtype: float64\n"
     ]
    }
   ],
   "source": [
    "rs = au/ad\n",
    "rsi = pd.Series(100 - (100/(1+rs)))\n",
    "print(rsi)"
   ]
  },
  {
   "cell_type": "markdown",
   "id": "4b134981",
   "metadata": {},
   "source": [
    "#### 만들어진 roc_df를 csv로 출력"
   ]
  },
  {
   "cell_type": "code",
   "execution_count": 86,
   "id": "09f73dc1",
   "metadata": {},
   "outputs": [],
   "source": [
    "rsi.to_csv(\"rsi_data 2022 05 01 ~ 2022 02 01.csv\", mode='w')"
   ]
  },
  {
   "cell_type": "markdown",
   "id": "c0cb4178",
   "metadata": {},
   "source": [
    "#### 잘 만들어졌는지 확인"
   ]
  },
  {
   "cell_type": "code",
   "execution_count": 87,
   "id": "42de0a18",
   "metadata": {},
   "outputs": [],
   "source": [
    "df_test = pd.read_csv(\"rsi_data 2022 05 01 ~ 2022 02 01.csv\")"
   ]
  },
  {
   "cell_type": "code",
   "execution_count": 88,
   "id": "60e59c01",
   "metadata": {},
   "outputs": [
    {
     "data": {
      "text/html": [
       "<div>\n",
       "<style scoped>\n",
       "    .dataframe tbody tr th:only-of-type {\n",
       "        vertical-align: middle;\n",
       "    }\n",
       "\n",
       "    .dataframe tbody tr th {\n",
       "        vertical-align: top;\n",
       "    }\n",
       "\n",
       "    .dataframe thead th {\n",
       "        text-align: right;\n",
       "    }\n",
       "</style>\n",
       "<table border=\"1\" class=\"dataframe\">\n",
       "  <thead>\n",
       "    <tr style=\"text-align: right;\">\n",
       "      <th></th>\n",
       "      <th>조회날짜</th>\n",
       "      <th>전일대비 등락</th>\n",
       "    </tr>\n",
       "  </thead>\n",
       "  <tbody>\n",
       "    <tr>\n",
       "      <th>0</th>\n",
       "      <td>2022-01-03</td>\n",
       "      <td>NaN</td>\n",
       "    </tr>\n",
       "    <tr>\n",
       "      <th>1</th>\n",
       "      <td>2022-01-04</td>\n",
       "      <td>NaN</td>\n",
       "    </tr>\n",
       "    <tr>\n",
       "      <th>2</th>\n",
       "      <td>2022-01-05</td>\n",
       "      <td>NaN</td>\n",
       "    </tr>\n",
       "    <tr>\n",
       "      <th>3</th>\n",
       "      <td>2022-01-06</td>\n",
       "      <td>NaN</td>\n",
       "    </tr>\n",
       "    <tr>\n",
       "      <th>4</th>\n",
       "      <td>2022-01-07</td>\n",
       "      <td>NaN</td>\n",
       "    </tr>\n",
       "    <tr>\n",
       "      <th>...</th>\n",
       "      <td>...</td>\n",
       "      <td>...</td>\n",
       "    </tr>\n",
       "    <tr>\n",
       "      <th>93</th>\n",
       "      <td>2022-05-20</td>\n",
       "      <td>49.723579</td>\n",
       "    </tr>\n",
       "    <tr>\n",
       "      <th>94</th>\n",
       "      <td>2022-05-23</td>\n",
       "      <td>51.045473</td>\n",
       "    </tr>\n",
       "    <tr>\n",
       "      <th>95</th>\n",
       "      <td>2022-05-24</td>\n",
       "      <td>44.003146</td>\n",
       "    </tr>\n",
       "    <tr>\n",
       "      <th>96</th>\n",
       "      <td>2022-05-25</td>\n",
       "      <td>45.799539</td>\n",
       "    </tr>\n",
       "    <tr>\n",
       "      <th>97</th>\n",
       "      <td>2022-05-26</td>\n",
       "      <td>44.578095</td>\n",
       "    </tr>\n",
       "  </tbody>\n",
       "</table>\n",
       "<p>98 rows × 2 columns</p>\n",
       "</div>"
      ],
      "text/plain": [
       "          조회날짜    전일대비 등락\n",
       "0   2022-01-03        NaN\n",
       "1   2022-01-04        NaN\n",
       "2   2022-01-05        NaN\n",
       "3   2022-01-06        NaN\n",
       "4   2022-01-07        NaN\n",
       "..         ...        ...\n",
       "93  2022-05-20  49.723579\n",
       "94  2022-05-23  51.045473\n",
       "95  2022-05-24  44.003146\n",
       "96  2022-05-25  45.799539\n",
       "97  2022-05-26  44.578095\n",
       "\n",
       "[98 rows x 2 columns]"
      ]
     },
     "execution_count": 88,
     "metadata": {},
     "output_type": "execute_result"
    }
   ],
   "source": [
    "df_test"
   ]
  }
 ],
 "metadata": {
  "kernelspec": {
   "display_name": "Python 3 (ipykernel)",
   "language": "python",
   "name": "python3"
  },
  "language_info": {
   "codemirror_mode": {
    "name": "ipython",
    "version": 3
   },
   "file_extension": ".py",
   "mimetype": "text/x-python",
   "name": "python",
   "nbconvert_exporter": "python",
   "pygments_lexer": "ipython3",
   "version": "3.8.13"
  }
 },
 "nbformat": 4,
 "nbformat_minor": 5
}
